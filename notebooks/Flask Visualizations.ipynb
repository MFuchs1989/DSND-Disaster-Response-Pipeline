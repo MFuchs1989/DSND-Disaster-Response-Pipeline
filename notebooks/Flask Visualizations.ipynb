{
 "cells": [
  {
   "cell_type": "markdown",
   "metadata": {},
   "source": [
    "# Import the libraries and load data from sqlite database"
   ]
  },
  {
   "cell_type": "code",
   "execution_count": 13,
   "metadata": {},
   "outputs": [
    {
     "name": "stderr",
     "output_type": "stream",
     "text": [
      "[nltk_data] Downloading package stopwords to C:\\Users\\Michael\n",
      "[nltk_data]     Fuchs\\AppData\\Roaming\\nltk_data...\n",
      "[nltk_data]   Package stopwords is already up-to-date!\n",
      "[nltk_data] Downloading package punkt to C:\\Users\\Michael\n",
      "[nltk_data]     Fuchs\\AppData\\Roaming\\nltk_data...\n",
      "[nltk_data]   Package punkt is already up-to-date!\n"
     ]
    }
   ],
   "source": [
    "# Import libraries\n",
    "%matplotlib inline\n",
    "import matplotlib.pyplot as plt\n",
    "import seaborn as sns\n",
    "\n",
    "import joblib\n",
    "import re\n",
    "import pandas as pd\n",
    "from sqlalchemy import create_engine\n",
    "\n",
    "import nltk\n",
    "nltk.download('stopwords')\n",
    "nltk.download('punkt')\n",
    "from nltk.corpus import stopwords\n",
    "from nltk.tokenize import word_tokenize\n",
    "from nltk.stem import WordNetLemmatizer\n",
    "from nltk.stem.snowball import SnowballStemmer\n",
    "from sklearn.feature_extraction.text import CountVectorizer, TfidfTransformer, TfidfVectorizer\n"
   ]
  },
  {
   "cell_type": "code",
   "execution_count": 3,
   "metadata": {},
   "outputs": [
    {
     "data": {
      "text/html": [
       "<div>\n",
       "<style scoped>\n",
       "    .dataframe tbody tr th:only-of-type {\n",
       "        vertical-align: middle;\n",
       "    }\n",
       "\n",
       "    .dataframe tbody tr th {\n",
       "        vertical-align: top;\n",
       "    }\n",
       "\n",
       "    .dataframe thead th {\n",
       "        text-align: right;\n",
       "    }\n",
       "</style>\n",
       "<table border=\"1\" class=\"dataframe\">\n",
       "  <thead>\n",
       "    <tr style=\"text-align: right;\">\n",
       "      <th></th>\n",
       "      <th>id</th>\n",
       "      <th>message</th>\n",
       "      <th>original</th>\n",
       "      <th>genre</th>\n",
       "      <th>related</th>\n",
       "      <th>request</th>\n",
       "      <th>offer</th>\n",
       "      <th>aid_related</th>\n",
       "      <th>medical_help</th>\n",
       "      <th>medical_products</th>\n",
       "      <th>...</th>\n",
       "      <th>aid_centers</th>\n",
       "      <th>other_infrastructure</th>\n",
       "      <th>weather_related</th>\n",
       "      <th>floods</th>\n",
       "      <th>storm</th>\n",
       "      <th>fire</th>\n",
       "      <th>earthquake</th>\n",
       "      <th>cold</th>\n",
       "      <th>other_weather</th>\n",
       "      <th>direct_report</th>\n",
       "    </tr>\n",
       "  </thead>\n",
       "  <tbody>\n",
       "    <tr>\n",
       "      <th>0</th>\n",
       "      <td>2</td>\n",
       "      <td>Weather update - a cold front from Cuba that c...</td>\n",
       "      <td>Un front froid se retrouve sur Cuba ce matin. ...</td>\n",
       "      <td>direct</td>\n",
       "      <td>1</td>\n",
       "      <td>0</td>\n",
       "      <td>0</td>\n",
       "      <td>0</td>\n",
       "      <td>0</td>\n",
       "      <td>0</td>\n",
       "      <td>...</td>\n",
       "      <td>0</td>\n",
       "      <td>0</td>\n",
       "      <td>0</td>\n",
       "      <td>0</td>\n",
       "      <td>0</td>\n",
       "      <td>0</td>\n",
       "      <td>0</td>\n",
       "      <td>0</td>\n",
       "      <td>0</td>\n",
       "      <td>0</td>\n",
       "    </tr>\n",
       "    <tr>\n",
       "      <th>1</th>\n",
       "      <td>7</td>\n",
       "      <td>Is the Hurricane over or is it not over</td>\n",
       "      <td>Cyclone nan fini osinon li pa fini</td>\n",
       "      <td>direct</td>\n",
       "      <td>1</td>\n",
       "      <td>0</td>\n",
       "      <td>0</td>\n",
       "      <td>1</td>\n",
       "      <td>0</td>\n",
       "      <td>0</td>\n",
       "      <td>...</td>\n",
       "      <td>0</td>\n",
       "      <td>0</td>\n",
       "      <td>1</td>\n",
       "      <td>0</td>\n",
       "      <td>1</td>\n",
       "      <td>0</td>\n",
       "      <td>0</td>\n",
       "      <td>0</td>\n",
       "      <td>0</td>\n",
       "      <td>0</td>\n",
       "    </tr>\n",
       "    <tr>\n",
       "      <th>2</th>\n",
       "      <td>8</td>\n",
       "      <td>Looking for someone but no name</td>\n",
       "      <td>Patnm, di Maryani relem pou li banm nouvel li ...</td>\n",
       "      <td>direct</td>\n",
       "      <td>1</td>\n",
       "      <td>0</td>\n",
       "      <td>0</td>\n",
       "      <td>0</td>\n",
       "      <td>0</td>\n",
       "      <td>0</td>\n",
       "      <td>...</td>\n",
       "      <td>0</td>\n",
       "      <td>0</td>\n",
       "      <td>0</td>\n",
       "      <td>0</td>\n",
       "      <td>0</td>\n",
       "      <td>0</td>\n",
       "      <td>0</td>\n",
       "      <td>0</td>\n",
       "      <td>0</td>\n",
       "      <td>0</td>\n",
       "    </tr>\n",
       "    <tr>\n",
       "      <th>3</th>\n",
       "      <td>9</td>\n",
       "      <td>UN reports Leogane 80-90 destroyed. Only Hospi...</td>\n",
       "      <td>UN reports Leogane 80-90 destroyed. Only Hospi...</td>\n",
       "      <td>direct</td>\n",
       "      <td>1</td>\n",
       "      <td>1</td>\n",
       "      <td>0</td>\n",
       "      <td>1</td>\n",
       "      <td>0</td>\n",
       "      <td>1</td>\n",
       "      <td>...</td>\n",
       "      <td>0</td>\n",
       "      <td>0</td>\n",
       "      <td>0</td>\n",
       "      <td>0</td>\n",
       "      <td>0</td>\n",
       "      <td>0</td>\n",
       "      <td>0</td>\n",
       "      <td>0</td>\n",
       "      <td>0</td>\n",
       "      <td>0</td>\n",
       "    </tr>\n",
       "    <tr>\n",
       "      <th>4</th>\n",
       "      <td>12</td>\n",
       "      <td>says: west side of Haiti, rest of the country ...</td>\n",
       "      <td>facade ouest d Haiti et le reste du pays aujou...</td>\n",
       "      <td>direct</td>\n",
       "      <td>1</td>\n",
       "      <td>0</td>\n",
       "      <td>0</td>\n",
       "      <td>0</td>\n",
       "      <td>0</td>\n",
       "      <td>0</td>\n",
       "      <td>...</td>\n",
       "      <td>0</td>\n",
       "      <td>0</td>\n",
       "      <td>0</td>\n",
       "      <td>0</td>\n",
       "      <td>0</td>\n",
       "      <td>0</td>\n",
       "      <td>0</td>\n",
       "      <td>0</td>\n",
       "      <td>0</td>\n",
       "      <td>0</td>\n",
       "    </tr>\n",
       "  </tbody>\n",
       "</table>\n",
       "<p>5 rows × 40 columns</p>\n",
       "</div>"
      ],
      "text/plain": [
       "   id                                            message  \\\n",
       "0   2  Weather update - a cold front from Cuba that c...   \n",
       "1   7            Is the Hurricane over or is it not over   \n",
       "2   8                    Looking for someone but no name   \n",
       "3   9  UN reports Leogane 80-90 destroyed. Only Hospi...   \n",
       "4  12  says: west side of Haiti, rest of the country ...   \n",
       "\n",
       "                                            original   genre  related  \\\n",
       "0  Un front froid se retrouve sur Cuba ce matin. ...  direct        1   \n",
       "1                 Cyclone nan fini osinon li pa fini  direct        1   \n",
       "2  Patnm, di Maryani relem pou li banm nouvel li ...  direct        1   \n",
       "3  UN reports Leogane 80-90 destroyed. Only Hospi...  direct        1   \n",
       "4  facade ouest d Haiti et le reste du pays aujou...  direct        1   \n",
       "\n",
       "   request  offer  aid_related  medical_help  medical_products  ...  \\\n",
       "0        0      0            0             0                 0  ...   \n",
       "1        0      0            1             0                 0  ...   \n",
       "2        0      0            0             0                 0  ...   \n",
       "3        1      0            1             0                 1  ...   \n",
       "4        0      0            0             0                 0  ...   \n",
       "\n",
       "   aid_centers  other_infrastructure  weather_related  floods  storm  fire  \\\n",
       "0            0                     0                0       0      0     0   \n",
       "1            0                     0                1       0      1     0   \n",
       "2            0                     0                0       0      0     0   \n",
       "3            0                     0                0       0      0     0   \n",
       "4            0                     0                0       0      0     0   \n",
       "\n",
       "   earthquake  cold  other_weather  direct_report  \n",
       "0           0     0              0              0  \n",
       "1           0     0              0              0  \n",
       "2           0     0              0              0  \n",
       "3           0     0              0              0  \n",
       "4           0     0              0              0  \n",
       "\n",
       "[5 rows x 40 columns]"
      ]
     },
     "execution_count": 3,
     "metadata": {},
     "output_type": "execute_result"
    }
   ],
   "source": [
    "# Load data from database\n",
    "engine = create_engine('sqlite:///../data/messages.db')\n",
    "df = pd.read_sql('SELECT * FROM messages', engine)\n",
    "df.head()"
   ]
  },
  {
   "cell_type": "markdown",
   "metadata": {},
   "source": [
    "# Genre counts"
   ]
  },
  {
   "cell_type": "code",
   "execution_count": 4,
   "metadata": {},
   "outputs": [
    {
     "data": {
      "text/plain": [
       "genre\n",
       "direct    10766\n",
       "news      13054\n",
       "social     2396\n",
       "Name: message, dtype: int64"
      ]
     },
     "execution_count": 4,
     "metadata": {},
     "output_type": "execute_result"
    }
   ],
   "source": [
    "genre_counts = df.groupby('genre').count()['message']\n",
    "genre_names = genre_counts.index.tolist()\n",
    "genre_counts"
   ]
  },
  {
   "cell_type": "code",
   "execution_count": 6,
   "metadata": {},
   "outputs": [
    {
     "data": {
      "text/plain": [
       "Text(0.5, 0, 'Genre')"
      ]
     },
     "execution_count": 6,
     "metadata": {},
     "output_type": "execute_result"
    },
    {
     "data": {
      "image/png": "[encoded data removed]",
      "text/plain": [
       "<Figure size 432x288 with 1 Axes>"
      ]
     },
     "metadata": {
      "needs_background": "light"
     },
     "output_type": "display_data"
    }
   ],
   "source": [
    "sns.barplot(x=genre_names, y=genre_counts)\n",
    "plt.title('Distribution of Message Genres')\n",
    "plt.ylabel('Number of messages')\n",
    "plt.xlabel('Genre')"
   ]
  },
  {
   "cell_type": "markdown",
   "metadata": {},
   "source": [
    "# Message word counts"
   ]
  },
  {
   "cell_type": "code",
   "execution_count": 7,
   "metadata": {},
   "outputs": [
    {
     "data": {
      "text/plain": [
       "19862    97\n",
       "21287    97\n",
       "12911    97\n",
       "10661    97\n",
       "10678    96\n",
       "Name: message, dtype: int64"
      ]
     },
     "execution_count": 7,
     "metadata": {},
     "output_type": "execute_result"
    }
   ],
   "source": [
    "word_count = df.message.apply(lambda s: len(s.split())).sort_values(ascending=False)\n",
    "word_count = word_count[word_count <= 100]\n",
    "word_count.head()"
   ]
  },
  {
   "cell_type": "code",
   "execution_count": 9,
   "metadata": {},
   "outputs": [
    {
     "data": {
      "text/plain": [
       "Text(0.5, 0, 'Word Count')"
      ]
     },
     "execution_count": 9,
     "metadata": {},
     "output_type": "execute_result"
    },
    {
     "data": {
      "image/png": "[encoded data removed]",
      "text/plain": [
       "<Figure size 432x288 with 1 Axes>"
      ]
     },
     "metadata": {
      "needs_background": "light"
     },
     "output_type": "display_data"
    }
   ],
   "source": [
    "word_count.hist()\n",
    "plt.title('Distribution of Message Word Count')\n",
    "plt.ylabel('Number of Messages')\n",
    "plt.xlabel('Word Count')"
   ]
  },
  {
   "cell_type": "markdown",
   "metadata": {},
   "source": [
    "# Category counts"
   ]
  },
  {
   "cell_type": "code",
   "execution_count": 10,
   "metadata": {},
   "outputs": [
    {
     "data": {
      "text/plain": [
       "related            20282\n",
       "aid_related        10860\n",
       "weather_related     7297\n",
       "direct_report       5075\n",
       "request             4474\n",
       "other_aid           3446\n",
       "food                2923\n",
       "earthquake          2455\n",
       "storm               2443\n",
       "shelter             2314\n",
       "dtype: int64"
      ]
     },
     "execution_count": 10,
     "metadata": {},
     "output_type": "execute_result"
    }
   ],
   "source": [
    "cat_counts = df.iloc[:, 4:].sum().sort_values(ascending=False)[:10]\n",
    "cat_names = cat_counts.index.tolist()\n",
    "cat_counts"
   ]
  },
  {
   "cell_type": "code",
   "execution_count": 11,
   "metadata": {},
   "outputs": [
    {
     "data": {
      "text/plain": [
       "Text(0.5, 0, 'Number of messages')"
      ]
     },
     "execution_count": 11,
     "metadata": {},
     "output_type": "execute_result"
    },
    {
     "data": {
      "image/png": "[encoded data removed]",
      "text/plain": [
       "<Figure size 432x288 with 1 Axes>"
      ]
     },
     "metadata": {
      "needs_background": "light"
     },
     "output_type": "display_data"
    }
   ],
   "source": [
    "sns.barplot(x=cat_counts, y=cat_names)\n",
    "plt.title('Top Message Categories')\n",
    "plt.ylabel('Category')\n",
    "plt.xlabel('Number of messages')"
   ]
  },
  {
   "cell_type": "markdown",
   "metadata": {},
   "source": [
    "# Top words"
   ]
  },
  {
   "cell_type": "code",
   "execution_count": 14,
   "metadata": {},
   "outputs": [
    {
     "data": {
      "text/plain": [
       "us            7403\n",
       "water         2581\n",
       "people        2468\n",
       "food          2420\n",
       "need          2347\n",
       "help          2249\n",
       "earthquake    1584\n",
       "like          1541\n",
       "would         1368\n",
       "please        1120\n",
       "dtype: int64"
      ]
     },
     "execution_count": 14,
     "metadata": {},
     "output_type": "execute_result"
    }
   ],
   "source": [
    "# Stopword list\n",
    "stop = stopwords.words('english')\n",
    "\n",
    "# Define a function to find the 10 most common words\n",
    "def get_top_words(txt, num_words=10):\n",
    "    tfidf = TfidfVectorizer(stop_words=stop, max_features=num_words)\n",
    "    tfidf.fit(txt)\n",
    "    words = tfidf.vocabulary_\n",
    "    \n",
    "    for word in words:\n",
    "        words[word] = txt[txt.str.contains(word)].count()\n",
    "    return pd.Series(words).sort_values(ascending=False)\n",
    "\n",
    "top_counts = get_top_words(df.message)\n",
    "top_words = top_counts.index.tolist()\n",
    "top_counts"
   ]
  },
  {
   "cell_type": "code",
   "execution_count": 15,
   "metadata": {},
   "outputs": [
    {
     "data": {
      "text/plain": [
       "Text(0.5, 0, 'Number of messages')"
      ]
     },
     "execution_count": 15,
     "metadata": {},
     "output_type": "execute_result"
    },
    {
     "data": {
      "image/png": "[encoded data removed]",
      "text/plain": [
       "<Figure size 432x288 with 1 Axes>"
      ]
     },
     "metadata": {
      "needs_background": "light"
     },
     "output_type": "display_data"
    }
   ],
   "source": [
    "sns.barplot(top_counts, top_words)\n",
    "plt.title('Most Common Words in Messages')\n",
    "plt.ylabel('Word')\n",
    "plt.xlabel('Number of messages')"
   ]
  },
  {
   "cell_type": "markdown",
   "metadata": {},
   "source": [
    "# Create Flask App"
   ]
  },
  {
   "cell_type": "code",
   "execution_count": 19,
   "metadata": {},
   "outputs": [],
   "source": [
    "import joblib\n",
    "import json\n",
    "import re\n",
    "import pandas as pd\n",
    "from sqlalchemy import create_engine\n",
    "\n",
    "import plotly\n",
    "from plotly.graph_objs import Bar, Histogram\n",
    "\n",
    "import nltk\n",
    "nltk.download('stopwords')\n",
    "nltk.download('punkt')\n",
    "from nltk.corpus import stopwords\n",
    "from nltk.tokenize import word_tokenize\n",
    "from nltk.stem import WordNetLemmatizer\n",
    "from sklearn.feature_extraction.text import TfidfVectorizer\n",
    "\n",
    "from flask import Flask\n",
    "from flask import request, jsonify, render_template\n",
    "\n",
    "\n",
    "# Create app\n",
    "app = Flask(__name__)\n",
    "\n",
    "\n",
    "# List of stopwords\n",
    "stop = stopwords.words('english')\n",
    "\n",
    "\n",
    "def get_top_words(txt, num_words=10):\n",
    "\n",
    "    '''\n",
    "    Find words with the highest document frequency.\n",
    "\n",
    "    Args:\n",
    "        txt (list-like object): text data\n",
    "        num_words (int): number of words to find\n",
    "\n",
    "    Returns:\n",
    "        (Pandas series) top words and their document frequencies\n",
    "    '''\n",
    "\n",
    "    tfidf = TfidfVectorizer(stop_words=stop, max_features=num_words)\n",
    "    tfidf.fit(txt)\n",
    "    words = tfidf.vocabulary_\n",
    "    \n",
    "    for word in words:\n",
    "        words[word] = txt[txt.str.contains(word)].count()\n",
    "    return pd.Series(words).sort_values()\n",
    "\n",
    "\n",
    "def tokenize(text):\n",
    "\n",
    "    '''\n",
    "    Tokenizes message data\n",
    "\n",
    "    Args:\n",
    "        text (str): Text to tokenize\n",
    "\n",
    "    Returns:\n",
    "        (DataFrame) clean_messages: array of tokenized message data\n",
    "    '''\n",
    "\n",
    "    #Case Normalization & remove punctuation \n",
    "    text = re.sub(r\"[^a-zA-Z0-9]\", \" \", text.lower()) \n",
    "    \n",
    "    #tokenization methods \n",
    "    \n",
    "    words = word_tokenize(text)\n",
    "    \n",
    "    words = [w for w in words if w not in stopwords.words(\"english\")]\n",
    "    lemmed = [WordNetLemmatizer().lemmatize(w) for w in words]\n",
    "    words = [WordNetLemmatizer().lemmatize(w, pos='v') for w in lemmed]\n",
    "\n",
    "    \n",
    "    return words\n",
    "\n",
    "\n",
    "# Load data\n",
    "engine = create_engine('sqlite:///../data/messages.db')\n",
    "df = pd.read_sql_table('messages', engine)\n",
    "\n",
    "\n",
    "# Load model\n",
    "model = joblib.load(\"../models/classifier.pkl\")\n",
    "\n",
    "\n",
    "# Home page\n",
    "@app.route('/')\n",
    "@app.route('/index')\n",
    "def index():\n",
    "\n",
    "    # Category counts\n",
    "    cat_counts = df.iloc[:, 4:].sum().sort_values()[-10:]\n",
    "    cat_names = cat_counts.index.tolist()\n",
    "\n",
    "    # Message word counts\n",
    "    word_counts = df.message.apply(lambda s: len(s.split()))\n",
    "    word_counts = word_counts[word_counts <= 100]\n",
    "\n",
    "    # Genre counts\n",
    "    genre_counts = df.groupby('genre').count()['message']\n",
    "    genre_names = genre_counts.index.tolist()\n",
    "\n",
    "    # Top word\n",
    "    top_counts = get_top_words(df.message)\n",
    "    top_words = top_counts.index.tolist()\n",
    "\n",
    "    # Create Visualizations\n",
    "    graphs = [\n",
    "\n",
    "        # Category counts\n",
    "        {\n",
    "            'data': [\n",
    "                Bar(\n",
    "                    x=cat_counts,\n",
    "                    y=cat_names,\n",
    "                    orientation='h'\n",
    "                )\n",
    "            ],\n",
    "            'layout': {\n",
    "                'title': 'Top Message Categories',\n",
    "                'yaxis': {'title': \"Category\"},\n",
    "                'xaxis': {'title': \"Number of Messages\"},\n",
    "                'margin': {'l': 100}\n",
    "            }\n",
    "        },\n",
    "\n",
    "        # Top word counts\n",
    "        {\n",
    "            'data': [\n",
    "                Bar(\n",
    "                    x=top_counts,\n",
    "                    y=top_words,\n",
    "                    orientation='h'\n",
    "                )\n",
    "            ],\n",
    "            'layout': {\n",
    "                'title': 'Most Common Words in Messages',\n",
    "                'yaxis': {'title': \"Word\"},\n",
    "                'xaxis': {'title': \"Number of Messages\"},\n",
    "                'margin': {'l': 100}\n",
    "            }\n",
    "        },\n",
    "\n",
    "        # Message word counts\n",
    "        {\n",
    "            'data': [\n",
    "                Histogram(\n",
    "                    x=word_counts\n",
    "                )\n",
    "            ],\n",
    "            'layout': {\n",
    "                'title': 'Distribution of Message Word Counts',\n",
    "                'yaxis': {'title': \"Number of messages\"},\n",
    "                'xaxis': {'title': \"Word count\"}\n",
    "            }\n",
    "        },    \n",
    "        \n",
    "        # Genre counts\n",
    "        {\n",
    "            'data': [\n",
    "                Bar(\n",
    "                    x=genre_names,\n",
    "                    y=genre_counts\n",
    "                )\n",
    "            ],\n",
    "            'layout': {\n",
    "                'title': 'Distribution of Message Genres',\n",
    "                'yaxis': {'title': \"Number of messages\"},\n",
    "                'xaxis': {'title': \"Genre\"}\n",
    "            }\n",
    "        }    \n",
    "    ]\n",
    "\n",
    "    # Encode plotly graphs in JSON\n",
    "    ids = [\"graph-{}\".format(i) for i, _ in enumerate(graphs)]\n",
    "    graphJSON = json.dumps(graphs, cls=plotly.utils.PlotlyJSONEncoder)\n",
    "    \n",
    "    # Render web page with plotly graphs\n",
    "    return render_template('master.html', ids=ids, graphJSON=graphJSON)\n",
    "\n",
    "\n",
    "# web page that handles user query and displays model results\n",
    "@app.route('/go')\n",
    "def go():\n",
    "    # save user input in query\n",
    "    query = request.args.get('query', '') \n",
    "\n",
    "    # use model to predict classification for query\n",
    "    classification_labels = model.predict([query])[0]\n",
    "    classification_results = dict(zip(df.columns[4:], classification_labels))\n",
    "\n",
    "    # This will render the go.html Please see that file. \n",
    "    return render_template(\n",
    "        'go.html',\n",
    "        query=query,\n",
    "        classification_result=classification_results\n",
    "    )\n",
    "\n",
    "\n",
    "def main():\n",
    "    app.run(host='0.0.0.0', port=3001, debug=True)\n",
    "\n",
    "\n",
    "#if __name__ == '__main__':\n",
    "#    main()\n",
    "\n"
   ]
  },
  {
   "cell_type": "code",
   "execution_count": null,
   "metadata": {},
   "outputs": [],
   "source": []
  },
  {
   "cell_type": "code",
   "execution_count": null,
   "metadata": {},
   "outputs": [],
   "source": []
  },
  {
   "cell_type": "code",
   "execution_count": null,
   "metadata": {},
   "outputs": [],
   "source": []
  },
  {
   "cell_type": "code",
   "execution_count": null,
   "metadata": {},
   "outputs": [],
   "source": []
  },
  {
   "cell_type": "code",
   "execution_count": null,
   "metadata": {},
   "outputs": [],
   "source": []
  }
 ],
 "metadata": {
  "kernelspec": {
   "display_name": "Python 3",
   "language": "python",
   "name": "python3"
  },
  "language_info": {
   "codemirror_mode": {
    "name": "ipython",
    "version": 3
   },
   "file_extension": ".py",
   "mimetype": "text/x-python",
   "name": "python",
   "nbconvert_exporter": "python",
   "pygments_lexer": "ipython3",
   "version": "3.6.8"
  },
  "toc": {
   "base_numbering": 1,
   "nav_menu": {},
   "number_sections": true,
   "sideBar": true,
   "skip_h1_title": false,
   "title_cell": "Table of Contents",
   "title_sidebar": "Contents",
   "toc_cell": false,
   "toc_position": {},
   "toc_section_display": true,
   "toc_window_display": true
  }
 },
 "nbformat": 4,
 "nbformat_minor": 2
}
